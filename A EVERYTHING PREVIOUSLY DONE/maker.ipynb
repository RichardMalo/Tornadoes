{
 "cells": [
  {
   "cell_type": "code",
   "execution_count": 1,
   "metadata": {},
   "outputs": [],
   "source": [
    "import pandas as pd\n",
    "import sqlite3\n",
    "\n",
    "def create_tornado_data_sqlite(csv_file, sqlite_file):\n",
    "    # Read CSV data using pandas and select desired columns\n",
    "    df = pd.read_csv(csv_file, usecols=['yr', 'mo', 'mag', 'inj', 'fat', 'slon', 'slat', 'st', 'len', 'wid'])\n",
    "\n",
    "    # Connect to the SQLite database (it will be created if it doesn't exist)\n",
    "    conn = sqlite3.connect(sqlite_file)\n",
    "\n",
    "    # Write the DataFrame to the SQLite database, creating a new table named 'tornado_data'\n",
    "    df.to_sql('tornado_data', conn, if_exists='replace', index=False)\n",
    "\n",
    "    # Commit the transaction and close the connection\n",
    "    conn.commit()\n",
    "    conn.close()\n",
    "\n",
    "if __name__ == '__main__':\n",
    "    csv_file = 'data/1950-2021_torn.csv'\n",
    "    sqlite_file = 'yrmomaginjfatslonslatstlenwid.sqlite'\n",
    "    create_tornado_data_sqlite(csv_file, sqlite_file)"
   ]
  }
 ],
 "metadata": {
  "kernelspec": {
   "display_name": "base",
   "language": "python",
   "name": "python3"
  },
  "language_info": {
   "codemirror_mode": {
    "name": "ipython",
    "version": 3
   },
   "file_extension": ".py",
   "mimetype": "text/x-python",
   "name": "python",
   "nbconvert_exporter": "python",
   "pygments_lexer": "ipython3",
   "version": "3.9.13"
  },
  "orig_nbformat": 4
 },
 "nbformat": 4,
 "nbformat_minor": 2
}
